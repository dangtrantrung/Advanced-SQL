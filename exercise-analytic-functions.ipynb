{
 "cells": [
  {
   "cell_type": "markdown",
   "id": "18b577bc",
   "metadata": {
    "papermill": {
     "duration": 0.005908,
     "end_time": "2024-04-04T08:40:54.847488",
     "exception": false,
     "start_time": "2024-04-04T08:40:54.841580",
     "status": "completed"
    },
    "tags": []
   },
   "source": [
    "**This notebook is an exercise in the [Advanced SQL](https://www.kaggle.com/learn/advanced-sql) course.  You can reference the tutorial at [this link](https://www.kaggle.com/alexisbcook/analytic-functions).**\n",
    "\n",
    "---\n"
   ]
  },
  {
   "cell_type": "markdown",
   "id": "6276b0f1",
   "metadata": {
    "papermill": {
     "duration": 0.005143,
     "end_time": "2024-04-04T08:40:54.858359",
     "exception": false,
     "start_time": "2024-04-04T08:40:54.853216",
     "status": "completed"
    },
    "tags": []
   },
   "source": [
    "# Introduction\n",
    "\n",
    "Here, you'll use window functions to answer questions about the [Chicago Taxi Trips](https://www.kaggle.com/chicago/chicago-taxi-trips-bq) dataset.\n",
    "\n",
    "Before you get started, run the code cell below to set everything up."
   ]
  },
  {
   "cell_type": "code",
   "execution_count": 1,
   "id": "a0efd39b",
   "metadata": {
    "execution": {
     "iopub.execute_input": "2024-04-04T08:40:54.871492Z",
     "iopub.status.busy": "2024-04-04T08:40:54.871127Z",
     "iopub.status.idle": "2024-04-04T08:41:32.841383Z",
     "shell.execute_reply": "2024-04-04T08:41:32.840142Z"
    },
    "papermill": {
     "duration": 37.980318,
     "end_time": "2024-04-04T08:41:32.844126",
     "exception": false,
     "start_time": "2024-04-04T08:40:54.863808",
     "status": "completed"
    },
    "tags": []
   },
   "outputs": [
    {
     "name": "stdout",
     "output_type": "stream",
     "text": [
      "Collecting git+https://github.com/Kaggle/learntools.git\r\n",
      "  Cloning https://github.com/Kaggle/learntools.git to /tmp/pip-req-build-csvx7u08\r\n",
      "  Running command git clone --filter=blob:none --quiet https://github.com/Kaggle/learntools.git /tmp/pip-req-build-csvx7u08\r\n",
      "  Resolved https://github.com/Kaggle/learntools.git to commit ca2a51ee0085e4943cadaf5e9fe7dce2ec947d3c\r\n",
      "  Preparing metadata (setup.py) ... \u001b[?25ldone\r\n",
      "\u001b[?25hBuilding wheels for collected packages: learntools\r\n",
      "  Building wheel for learntools (setup.py) ... \u001b[?25l-\b \bdone\r\n",
      "\u001b[?25h  Created wheel for learntools: filename=learntools-0.3.4-py3-none-any.whl size=268968 sha256=d03ea8417c118e72f2042c098385104dcd214700122d7b9922bc502c4ff7dee4\r\n",
      "  Stored in directory: /tmp/pip-ephem-wheel-cache-e7ls3_o1/wheels/2f/6c/3c/aa9f50cfb5a862157cb4c7a5b34881828cf45404698255dced\r\n",
      "Successfully built learntools\r\n",
      "Installing collected packages: learntools\r\n",
      "Successfully installed learntools-0.3.4\r\n",
      "Using Kaggle's public dataset BigQuery integration.\n",
      "Setup Complete\n"
     ]
    }
   ],
   "source": [
    "# Get most recent checking code\n",
    "!pip install -U -t /kaggle/working/ git+https://github.com/Kaggle/learntools.git\n",
    "# Set up feedback system\n",
    "from learntools.core import binder\n",
    "binder.bind(globals())\n",
    "from learntools.sql_advanced.ex2 import *\n",
    "print(\"Setup Complete\")"
   ]
  },
  {
   "cell_type": "markdown",
   "id": "c3bf4594",
   "metadata": {
    "papermill": {
     "duration": 0.006107,
     "end_time": "2024-04-04T08:41:32.856763",
     "exception": false,
     "start_time": "2024-04-04T08:41:32.850656",
     "status": "completed"
    },
    "tags": []
   },
   "source": [
    "The following code cell fetches the `taxi_trips` table from the `chicago_taxi_trips` dataset. We also preview the first five rows of the table.  You'll use the table to answer the questions below."
   ]
  },
  {
   "cell_type": "code",
   "execution_count": 2,
   "id": "1021f1f1",
   "metadata": {
    "execution": {
     "iopub.execute_input": "2024-04-04T08:41:32.871808Z",
     "iopub.status.busy": "2024-04-04T08:41:32.871221Z",
     "iopub.status.idle": "2024-04-04T08:41:33.711476Z",
     "shell.execute_reply": "2024-04-04T08:41:33.710054Z"
    },
    "papermill": {
     "duration": 0.85091,
     "end_time": "2024-04-04T08:41:33.714183",
     "exception": false,
     "start_time": "2024-04-04T08:41:32.863273",
     "status": "completed"
    },
    "tags": []
   },
   "outputs": [
    {
     "name": "stdout",
     "output_type": "stream",
     "text": [
      "Using Kaggle's public dataset BigQuery integration.\n"
     ]
    },
    {
     "data": {
      "text/html": [
       "<div>\n",
       "<style scoped>\n",
       "    .dataframe tbody tr th:only-of-type {\n",
       "        vertical-align: middle;\n",
       "    }\n",
       "\n",
       "    .dataframe tbody tr th {\n",
       "        vertical-align: top;\n",
       "    }\n",
       "\n",
       "    .dataframe thead th {\n",
       "        text-align: right;\n",
       "    }\n",
       "</style>\n",
       "<table border=\"1\" class=\"dataframe\">\n",
       "  <thead>\n",
       "    <tr style=\"text-align: right;\">\n",
       "      <th></th>\n",
       "      <th>unique_key</th>\n",
       "      <th>taxi_id</th>\n",
       "      <th>trip_start_timestamp</th>\n",
       "      <th>trip_end_timestamp</th>\n",
       "      <th>trip_seconds</th>\n",
       "      <th>trip_miles</th>\n",
       "      <th>pickup_census_tract</th>\n",
       "      <th>dropoff_census_tract</th>\n",
       "      <th>pickup_community_area</th>\n",
       "      <th>dropoff_community_area</th>\n",
       "      <th>...</th>\n",
       "      <th>extras</th>\n",
       "      <th>trip_total</th>\n",
       "      <th>payment_type</th>\n",
       "      <th>company</th>\n",
       "      <th>pickup_latitude</th>\n",
       "      <th>pickup_longitude</th>\n",
       "      <th>pickup_location</th>\n",
       "      <th>dropoff_latitude</th>\n",
       "      <th>dropoff_longitude</th>\n",
       "      <th>dropoff_location</th>\n",
       "    </tr>\n",
       "  </thead>\n",
       "  <tbody>\n",
       "    <tr>\n",
       "      <th>0</th>\n",
       "      <td>89dbb2fc5b8dad6e95f3da319010d3995b9aed3a</td>\n",
       "      <td>4efb4a59d8c600a9d2a8d14362769bed234568a573dc5f...</td>\n",
       "      <td>2014-12-01 18:30:00+00:00</td>\n",
       "      <td>2014-12-01 18:30:00+00:00</td>\n",
       "      <td>420</td>\n",
       "      <td>0.8</td>\n",
       "      <td>NaN</td>\n",
       "      <td>NaN</td>\n",
       "      <td>NaN</td>\n",
       "      <td>NaN</td>\n",
       "      <td>...</td>\n",
       "      <td>1.0</td>\n",
       "      <td>6.65</td>\n",
       "      <td>Cash</td>\n",
       "      <td>None</td>\n",
       "      <td>NaN</td>\n",
       "      <td>NaN</td>\n",
       "      <td>None</td>\n",
       "      <td>NaN</td>\n",
       "      <td>NaN</td>\n",
       "      <td>None</td>\n",
       "    </tr>\n",
       "    <tr>\n",
       "      <th>1</th>\n",
       "      <td>33d91796f8cc1c00b68addf4b95b5c0dc01c95d0</td>\n",
       "      <td>ac3197af61ac119894f5d339834595e2d1e28f8d6609e7...</td>\n",
       "      <td>2014-11-28 06:30:00+00:00</td>\n",
       "      <td>2014-11-28 06:45:00+00:00</td>\n",
       "      <td>540</td>\n",
       "      <td>2.2</td>\n",
       "      <td>NaN</td>\n",
       "      <td>NaN</td>\n",
       "      <td>NaN</td>\n",
       "      <td>NaN</td>\n",
       "      <td>...</td>\n",
       "      <td>0.0</td>\n",
       "      <td>8.25</td>\n",
       "      <td>Cash</td>\n",
       "      <td>None</td>\n",
       "      <td>NaN</td>\n",
       "      <td>NaN</td>\n",
       "      <td>None</td>\n",
       "      <td>NaN</td>\n",
       "      <td>NaN</td>\n",
       "      <td>None</td>\n",
       "    </tr>\n",
       "    <tr>\n",
       "      <th>2</th>\n",
       "      <td>9759ecc279a90f20e346d0eab065a8275d28b2e0</td>\n",
       "      <td>ac3197af61ac119894f5d339834595e2d1e28f8d6609e7...</td>\n",
       "      <td>2014-11-28 08:15:00+00:00</td>\n",
       "      <td>2014-11-28 08:15:00+00:00</td>\n",
       "      <td>180</td>\n",
       "      <td>0.5</td>\n",
       "      <td>NaN</td>\n",
       "      <td>NaN</td>\n",
       "      <td>NaN</td>\n",
       "      <td>NaN</td>\n",
       "      <td>...</td>\n",
       "      <td>0.0</td>\n",
       "      <td>4.45</td>\n",
       "      <td>Cash</td>\n",
       "      <td>None</td>\n",
       "      <td>NaN</td>\n",
       "      <td>NaN</td>\n",
       "      <td>None</td>\n",
       "      <td>NaN</td>\n",
       "      <td>NaN</td>\n",
       "      <td>None</td>\n",
       "    </tr>\n",
       "    <tr>\n",
       "      <th>3</th>\n",
       "      <td>a3059e04c539b9f333116268ee80bc8790e31b16</td>\n",
       "      <td>ac3197af61ac119894f5d339834595e2d1e28f8d6609e7...</td>\n",
       "      <td>2014-11-28 05:30:00+00:00</td>\n",
       "      <td>2014-11-28 05:30:00+00:00</td>\n",
       "      <td>180</td>\n",
       "      <td>0.6</td>\n",
       "      <td>NaN</td>\n",
       "      <td>NaN</td>\n",
       "      <td>NaN</td>\n",
       "      <td>NaN</td>\n",
       "      <td>...</td>\n",
       "      <td>0.0</td>\n",
       "      <td>6.84</td>\n",
       "      <td>Credit Card</td>\n",
       "      <td>None</td>\n",
       "      <td>NaN</td>\n",
       "      <td>NaN</td>\n",
       "      <td>None</td>\n",
       "      <td>NaN</td>\n",
       "      <td>NaN</td>\n",
       "      <td>None</td>\n",
       "    </tr>\n",
       "    <tr>\n",
       "      <th>4</th>\n",
       "      <td>e9fbfd63f479544264ab62ffee1663644f089c4f</td>\n",
       "      <td>ac3197af61ac119894f5d339834595e2d1e28f8d6609e7...</td>\n",
       "      <td>2014-11-28 06:15:00+00:00</td>\n",
       "      <td>2014-11-28 06:15:00+00:00</td>\n",
       "      <td>480</td>\n",
       "      <td>2.5</td>\n",
       "      <td>NaN</td>\n",
       "      <td>NaN</td>\n",
       "      <td>NaN</td>\n",
       "      <td>NaN</td>\n",
       "      <td>...</td>\n",
       "      <td>0.0</td>\n",
       "      <td>8.25</td>\n",
       "      <td>Cash</td>\n",
       "      <td>None</td>\n",
       "      <td>NaN</td>\n",
       "      <td>NaN</td>\n",
       "      <td>None</td>\n",
       "      <td>NaN</td>\n",
       "      <td>NaN</td>\n",
       "      <td>None</td>\n",
       "    </tr>\n",
       "  </tbody>\n",
       "</table>\n",
       "<p>5 rows × 23 columns</p>\n",
       "</div>"
      ],
      "text/plain": [
       "                                 unique_key  \\\n",
       "0  89dbb2fc5b8dad6e95f3da319010d3995b9aed3a   \n",
       "1  33d91796f8cc1c00b68addf4b95b5c0dc01c95d0   \n",
       "2  9759ecc279a90f20e346d0eab065a8275d28b2e0   \n",
       "3  a3059e04c539b9f333116268ee80bc8790e31b16   \n",
       "4  e9fbfd63f479544264ab62ffee1663644f089c4f   \n",
       "\n",
       "                                             taxi_id  \\\n",
       "0  4efb4a59d8c600a9d2a8d14362769bed234568a573dc5f...   \n",
       "1  ac3197af61ac119894f5d339834595e2d1e28f8d6609e7...   \n",
       "2  ac3197af61ac119894f5d339834595e2d1e28f8d6609e7...   \n",
       "3  ac3197af61ac119894f5d339834595e2d1e28f8d6609e7...   \n",
       "4  ac3197af61ac119894f5d339834595e2d1e28f8d6609e7...   \n",
       "\n",
       "       trip_start_timestamp        trip_end_timestamp  trip_seconds  \\\n",
       "0 2014-12-01 18:30:00+00:00 2014-12-01 18:30:00+00:00           420   \n",
       "1 2014-11-28 06:30:00+00:00 2014-11-28 06:45:00+00:00           540   \n",
       "2 2014-11-28 08:15:00+00:00 2014-11-28 08:15:00+00:00           180   \n",
       "3 2014-11-28 05:30:00+00:00 2014-11-28 05:30:00+00:00           180   \n",
       "4 2014-11-28 06:15:00+00:00 2014-11-28 06:15:00+00:00           480   \n",
       "\n",
       "   trip_miles  pickup_census_tract  dropoff_census_tract  \\\n",
       "0         0.8                  NaN                   NaN   \n",
       "1         2.2                  NaN                   NaN   \n",
       "2         0.5                  NaN                   NaN   \n",
       "3         0.6                  NaN                   NaN   \n",
       "4         2.5                  NaN                   NaN   \n",
       "\n",
       "   pickup_community_area  dropoff_community_area  ...  extras  trip_total  \\\n",
       "0                    NaN                     NaN  ...     1.0        6.65   \n",
       "1                    NaN                     NaN  ...     0.0        8.25   \n",
       "2                    NaN                     NaN  ...     0.0        4.45   \n",
       "3                    NaN                     NaN  ...     0.0        6.84   \n",
       "4                    NaN                     NaN  ...     0.0        8.25   \n",
       "\n",
       "   payment_type  company  pickup_latitude pickup_longitude pickup_location  \\\n",
       "0          Cash     None              NaN              NaN            None   \n",
       "1          Cash     None              NaN              NaN            None   \n",
       "2          Cash     None              NaN              NaN            None   \n",
       "3   Credit Card     None              NaN              NaN            None   \n",
       "4          Cash     None              NaN              NaN            None   \n",
       "\n",
       "   dropoff_latitude  dropoff_longitude dropoff_location  \n",
       "0               NaN                NaN             None  \n",
       "1               NaN                NaN             None  \n",
       "2               NaN                NaN             None  \n",
       "3               NaN                NaN             None  \n",
       "4               NaN                NaN             None  \n",
       "\n",
       "[5 rows x 23 columns]"
      ]
     },
     "execution_count": 2,
     "metadata": {},
     "output_type": "execute_result"
    }
   ],
   "source": [
    "from google.cloud import bigquery\n",
    "\n",
    "# Create a \"Client\" object\n",
    "client = bigquery.Client()\n",
    "\n",
    "# Construct a reference to the \"chicago_taxi_trips\" dataset\n",
    "dataset_ref = client.dataset(\"chicago_taxi_trips\", project=\"bigquery-public-data\")\n",
    "\n",
    "# API request - fetch the dataset\n",
    "dataset = client.get_dataset(dataset_ref)\n",
    "\n",
    "# Construct a reference to the \"taxi_trips\" table\n",
    "table_ref = dataset_ref.table(\"taxi_trips\")\n",
    "\n",
    "# API request - fetch the table\n",
    "table = client.get_table(table_ref)\n",
    "\n",
    "# Preview the first five lines of the table\n",
    "client.list_rows(table, max_results=5).to_dataframe()"
   ]
  },
  {
   "cell_type": "markdown",
   "id": "25253fc7",
   "metadata": {
    "papermill": {
     "duration": 0.007151,
     "end_time": "2024-04-04T08:41:33.728558",
     "exception": false,
     "start_time": "2024-04-04T08:41:33.721407",
     "status": "completed"
    },
    "tags": []
   },
   "source": [
    "# Exercises\n",
    "\n",
    "### 1) How can you predict the demand for taxis?\n",
    "\n",
    "Say you work for a taxi company, and you're interested in predicting the demand for taxis.  Towards this goal, you'd like to create a plot that shows a rolling average of the daily number of taxi trips.  Amend the (partial) query below to return a DataFrame with two columns:\n",
    "- `trip_date` - contains one entry for each date from January 1, 2016, to March 31, 2016.\n",
    "- `avg_num_trips` - shows the average number of daily trips, calculated over a window including the value for the current date, along with the values for the preceding 3 days and the following 3 days, as long as the days fit within the three-month time frame.  For instance, when calculating the value in this column for January 3, 2016, the window will include the number of trips for the preceding 2 days, the current date, and the following 3 days.\n",
    "\n",
    "This query is partially completed for you, and you need only write the part that calculates the `avg_num_trips` column.  Note that this query uses a common table expression (CTE); if you need to review how to use CTEs, you're encouraged to check out [this tutorial](https://www.kaggle.com/dansbecker/as-with) in the [Intro to SQL](https://www.kaggle.com/learn/intro-to-sql) course."
   ]
  },
  {
   "cell_type": "code",
   "execution_count": 3,
   "id": "6e80825e",
   "metadata": {
    "execution": {
     "iopub.execute_input": "2024-04-04T08:41:33.745515Z",
     "iopub.status.busy": "2024-04-04T08:41:33.744471Z",
     "iopub.status.idle": "2024-04-04T08:41:34.888685Z",
     "shell.execute_reply": "2024-04-04T08:41:34.887364Z"
    },
    "papermill": {
     "duration": 1.155305,
     "end_time": "2024-04-04T08:41:34.891192",
     "exception": false,
     "start_time": "2024-04-04T08:41:33.735887",
     "status": "completed"
    },
    "tags": []
   },
   "outputs": [
    {
     "data": {
      "text/html": [
       "<div>\n",
       "<style scoped>\n",
       "    .dataframe tbody tr th:only-of-type {\n",
       "        vertical-align: middle;\n",
       "    }\n",
       "\n",
       "    .dataframe tbody tr th {\n",
       "        vertical-align: top;\n",
       "    }\n",
       "\n",
       "    .dataframe thead th {\n",
       "        text-align: right;\n",
       "    }\n",
       "</style>\n",
       "<table border=\"1\" class=\"dataframe\">\n",
       "  <thead>\n",
       "    <tr style=\"text-align: right;\">\n",
       "      <th></th>\n",
       "      <th>trip_date</th>\n",
       "      <th>avg_num_trips</th>\n",
       "    </tr>\n",
       "  </thead>\n",
       "  <tbody>\n",
       "    <tr>\n",
       "      <th>0</th>\n",
       "      <td>2016-01-17</td>\n",
       "      <td>23225.714286</td>\n",
       "    </tr>\n",
       "    <tr>\n",
       "      <th>1</th>\n",
       "      <td>2016-01-07</td>\n",
       "      <td>21385.142857</td>\n",
       "    </tr>\n",
       "    <tr>\n",
       "      <th>2</th>\n",
       "      <td>2016-03-18</td>\n",
       "      <td>25571.714286</td>\n",
       "    </tr>\n",
       "    <tr>\n",
       "      <th>3</th>\n",
       "      <td>2016-02-02</td>\n",
       "      <td>22038.857143</td>\n",
       "    </tr>\n",
       "    <tr>\n",
       "      <th>4</th>\n",
       "      <td>2016-01-08</td>\n",
       "      <td>21916.714286</td>\n",
       "    </tr>\n",
       "  </tbody>\n",
       "</table>\n",
       "</div>"
      ],
      "text/plain": [
       "    trip_date  avg_num_trips\n",
       "0  2016-01-17   23225.714286\n",
       "1  2016-01-07   21385.142857\n",
       "2  2016-03-18   25571.714286\n",
       "3  2016-02-02   22038.857143\n",
       "4  2016-01-08   21916.714286"
      ]
     },
     "metadata": {},
     "output_type": "display_data"
    },
    {
     "data": {
      "application/javascript": [
       "parent.postMessage({\"jupyterEvent\": \"custom.exercise_interaction\", \"data\": {\"outcomeType\": 1, \"valueTowardsCompletion\": 0.3333333333333333, \"interactionType\": 1, \"questionType\": 2, \"questionId\": \"1_TaxiDemand\", \"learnToolsVersion\": \"0.3.4\", \"failureMessage\": \"\", \"exceptionClass\": \"\", \"trace\": \"\"}}, \"*\")"
      ],
      "text/plain": [
       "<IPython.core.display.Javascript object>"
      ]
     },
     "metadata": {},
     "output_type": "display_data"
    },
    {
     "data": {
      "text/markdown": [
       "<span style=\"color:#33cc33\">Correct</span>"
      ],
      "text/plain": [
       "Correct"
      ]
     },
     "metadata": {},
     "output_type": "display_data"
    }
   ],
   "source": [
    "# Fill in the blank below\n",
    "avg_num_trips_query = \"\"\"\n",
    "                      WITH trips_by_day AS\n",
    "                      (\n",
    "                      SELECT DATE(trip_start_timestamp) AS trip_date,\n",
    "                          COUNT(*) as num_trips\n",
    "                      FROM `bigquery-public-data.chicago_taxi_trips.taxi_trips`\n",
    "                      WHERE trip_start_timestamp > '2016-01-01' AND trip_start_timestamp < '2016-04-01'\n",
    "                      GROUP BY trip_date\n",
    "                      ORDER BY trip_date\n",
    "                      )\n",
    "                      SELECT trip_date,\n",
    "                          AVG(num_trips)\n",
    "                          OVER ( \n",
    "                              ORDER BY trip_date\n",
    "                              ROWS BETWEEN 3 PRECEDING AND 3 FOLLOWING\n",
    "                               ) AS avg_num_trips\n",
    "                      FROM trips_by_day\n",
    "                      \"\"\"\n",
    "\n",
    "# Check your answer\n",
    "q_1.check()"
   ]
  },
  {
   "cell_type": "code",
   "execution_count": 4,
   "id": "c129825b",
   "metadata": {
    "execution": {
     "iopub.execute_input": "2024-04-04T08:41:34.908556Z",
     "iopub.status.busy": "2024-04-04T08:41:34.908129Z",
     "iopub.status.idle": "2024-04-04T08:41:34.913429Z",
     "shell.execute_reply": "2024-04-04T08:41:34.912046Z"
    },
    "papermill": {
     "duration": 0.016915,
     "end_time": "2024-04-04T08:41:34.915841",
     "exception": false,
     "start_time": "2024-04-04T08:41:34.898926",
     "status": "completed"
    },
    "tags": []
   },
   "outputs": [],
   "source": [
    "# Lines below will give you a hint or solution code\n",
    "#q_1.hint()\n",
    "#q_1.solution()"
   ]
  },
  {
   "cell_type": "markdown",
   "id": "d2688cfa",
   "metadata": {
    "papermill": {
     "duration": 0.007289,
     "end_time": "2024-04-04T08:41:34.930905",
     "exception": false,
     "start_time": "2024-04-04T08:41:34.923616",
     "status": "completed"
    },
    "tags": []
   },
   "source": [
    "### 2) Can you separate and order trips by community area?\n",
    "\n",
    "The query below returns a DataFrame with three columns from the table: `pickup_community_area`, `trip_start_timestamp`, and `trip_end_timestamp`.  \n",
    "\n",
    "Amend the query to return an additional column called `trip_number` which shows the order in which the trips were taken from their respective community areas.  So, the first trip of the day originating from community area 1 should receive a value of 1; the second trip of the day from the same area should receive a value of 2.  Likewise, the first trip of the day from community area 2 should receive a value of 1, and so on.\n",
    "\n",
    "Note that there are many numbering functions that can be used to solve this problem (depending on how you want to deal with trips that started at the same time from the same community area); to answer this question, please use the **RANK()** function."
   ]
  },
  {
   "cell_type": "code",
   "execution_count": 5,
   "id": "c5cd745c",
   "metadata": {
    "execution": {
     "iopub.execute_input": "2024-04-04T08:41:34.947978Z",
     "iopub.status.busy": "2024-04-04T08:41:34.947577Z",
     "iopub.status.idle": "2024-04-04T08:41:37.470149Z",
     "shell.execute_reply": "2024-04-04T08:41:37.468917Z"
    },
    "papermill": {
     "duration": 2.534019,
     "end_time": "2024-04-04T08:41:37.472486",
     "exception": false,
     "start_time": "2024-04-04T08:41:34.938467",
     "status": "completed"
    },
    "tags": []
   },
   "outputs": [
    {
     "data": {
      "text/html": [
       "<div>\n",
       "<style scoped>\n",
       "    .dataframe tbody tr th:only-of-type {\n",
       "        vertical-align: middle;\n",
       "    }\n",
       "\n",
       "    .dataframe tbody tr th {\n",
       "        vertical-align: top;\n",
       "    }\n",
       "\n",
       "    .dataframe thead th {\n",
       "        text-align: right;\n",
       "    }\n",
       "</style>\n",
       "<table border=\"1\" class=\"dataframe\">\n",
       "  <thead>\n",
       "    <tr style=\"text-align: right;\">\n",
       "      <th></th>\n",
       "      <th>pickup_community_area</th>\n",
       "      <th>trip_start_timestamp</th>\n",
       "      <th>trip_end_timestamp</th>\n",
       "      <th>trip_number</th>\n",
       "    </tr>\n",
       "  </thead>\n",
       "  <tbody>\n",
       "    <tr>\n",
       "      <th>0</th>\n",
       "      <td>3.0</td>\n",
       "      <td>2013-10-03 00:00:00+00:00</td>\n",
       "      <td>2013-10-03 00:15:00+00:00</td>\n",
       "      <td>1</td>\n",
       "    </tr>\n",
       "    <tr>\n",
       "      <th>1</th>\n",
       "      <td>3.0</td>\n",
       "      <td>2013-10-03 00:15:00+00:00</td>\n",
       "      <td>2013-10-03 00:30:00+00:00</td>\n",
       "      <td>2</td>\n",
       "    </tr>\n",
       "    <tr>\n",
       "      <th>2</th>\n",
       "      <td>3.0</td>\n",
       "      <td>2013-10-03 00:30:00+00:00</td>\n",
       "      <td>2013-10-03 00:45:00+00:00</td>\n",
       "      <td>3</td>\n",
       "    </tr>\n",
       "    <tr>\n",
       "      <th>3</th>\n",
       "      <td>3.0</td>\n",
       "      <td>2013-10-03 00:30:00+00:00</td>\n",
       "      <td>2013-10-03 00:30:00+00:00</td>\n",
       "      <td>3</td>\n",
       "    </tr>\n",
       "    <tr>\n",
       "      <th>4</th>\n",
       "      <td>3.0</td>\n",
       "      <td>2013-10-03 00:30:00+00:00</td>\n",
       "      <td>2013-10-03 00:30:00+00:00</td>\n",
       "      <td>3</td>\n",
       "    </tr>\n",
       "  </tbody>\n",
       "</table>\n",
       "</div>"
      ],
      "text/plain": [
       "   pickup_community_area      trip_start_timestamp        trip_end_timestamp  \\\n",
       "0                    3.0 2013-10-03 00:00:00+00:00 2013-10-03 00:15:00+00:00   \n",
       "1                    3.0 2013-10-03 00:15:00+00:00 2013-10-03 00:30:00+00:00   \n",
       "2                    3.0 2013-10-03 00:30:00+00:00 2013-10-03 00:45:00+00:00   \n",
       "3                    3.0 2013-10-03 00:30:00+00:00 2013-10-03 00:30:00+00:00   \n",
       "4                    3.0 2013-10-03 00:30:00+00:00 2013-10-03 00:30:00+00:00   \n",
       "\n",
       "   trip_number  \n",
       "0            1  \n",
       "1            2  \n",
       "2            3  \n",
       "3            3  \n",
       "4            3  "
      ]
     },
     "metadata": {},
     "output_type": "display_data"
    },
    {
     "data": {
      "application/javascript": [
       "parent.postMessage({\"jupyterEvent\": \"custom.exercise_interaction\", \"data\": {\"outcomeType\": 1, \"valueTowardsCompletion\": 0.3333333333333333, \"interactionType\": 1, \"questionType\": 2, \"questionId\": \"2_CommunityArea\", \"learnToolsVersion\": \"0.3.4\", \"failureMessage\": \"\", \"exceptionClass\": \"\", \"trace\": \"\"}}, \"*\")"
      ],
      "text/plain": [
       "<IPython.core.display.Javascript object>"
      ]
     },
     "metadata": {},
     "output_type": "display_data"
    },
    {
     "data": {
      "text/markdown": [
       "<span style=\"color:#33cc33\">Correct</span>"
      ],
      "text/plain": [
       "Correct"
      ]
     },
     "metadata": {},
     "output_type": "display_data"
    }
   ],
   "source": [
    "# Amend the query below\n",
    "trip_number_query = \"\"\"\n",
    "                    SELECT pickup_community_area,\n",
    "                        trip_start_timestamp,\n",
    "                        trip_end_timestamp,\n",
    "                        RANK() OVER (PARTITION BY pickup_community_area\n",
    "                        ORDER BY trip_start_timestamp \n",
    "                        \n",
    "                        ) AS trip_number\n",
    "                    FROM `bigquery-public-data.chicago_taxi_trips.taxi_trips`\n",
    "                    WHERE DATE(trip_start_timestamp) = '2013-10-03'\n",
    "                    \"\"\"\n",
    "\n",
    "# Check your answer\n",
    "q_2.check()"
   ]
  },
  {
   "cell_type": "code",
   "execution_count": 6,
   "id": "be3a1cb8",
   "metadata": {
    "execution": {
     "iopub.execute_input": "2024-04-04T08:41:37.490864Z",
     "iopub.status.busy": "2024-04-04T08:41:37.490454Z",
     "iopub.status.idle": "2024-04-04T08:41:37.494722Z",
     "shell.execute_reply": "2024-04-04T08:41:37.493602Z"
    },
    "papermill": {
     "duration": 0.016462,
     "end_time": "2024-04-04T08:41:37.497149",
     "exception": false,
     "start_time": "2024-04-04T08:41:37.480687",
     "status": "completed"
    },
    "tags": []
   },
   "outputs": [],
   "source": [
    "# Lines below will give you a hint or solution code\n",
    "#q_2.hint()\n",
    "#q_2.solution()"
   ]
  },
  {
   "cell_type": "markdown",
   "id": "baf97406",
   "metadata": {
    "papermill": {
     "duration": 0.008046,
     "end_time": "2024-04-04T08:41:37.513581",
     "exception": false,
     "start_time": "2024-04-04T08:41:37.505535",
     "status": "completed"
    },
    "tags": []
   },
   "source": [
    "### 3) How much time elapses between trips?\n",
    "\n",
    "The (partial) query in the code cell below shows, for each trip in the selected time frame, the corresponding `taxi_id`, `trip_start_timestamp`, and `trip_end_timestamp`. \n",
    "\n",
    "Your task in this exercise is to edit the query to include an additional `prev_break` column that shows the length of the break (in minutes) that the driver had before each trip started (this corresponds to the time between `trip_start_timestamp` of the current trip and `trip_end_timestamp` of the previous trip).  Partition the calculation by `taxi_id`, and order the results within each partition by `trip_start_timestamp`.\n",
    "\n",
    "Some sample results are shown below, where all rows correspond to the same driver (or `taxi_id`).  Take the time now to make sure that the values in the `prev_break` column make sense to you!\n",
    "\n",
    "![first_commands](https://storage.googleapis.com/kaggle-media/learn/images/qjvQzg8.png)\n",
    "\n",
    "Note that the first trip of the day for each driver should have a value of **NaN** (not a number) in the `prev_break` column."
   ]
  },
  {
   "cell_type": "code",
   "execution_count": 7,
   "id": "fdd40369",
   "metadata": {
    "execution": {
     "iopub.execute_input": "2024-04-04T08:41:37.532163Z",
     "iopub.status.busy": "2024-04-04T08:41:37.531773Z",
     "iopub.status.idle": "2024-04-04T08:41:40.666057Z",
     "shell.execute_reply": "2024-04-04T08:41:40.664887Z"
    },
    "papermill": {
     "duration": 3.147574,
     "end_time": "2024-04-04T08:41:40.669393",
     "exception": false,
     "start_time": "2024-04-04T08:41:37.521819",
     "status": "completed"
    },
    "tags": []
   },
   "outputs": [
    {
     "data": {
      "text/html": [
       "<div>\n",
       "<style scoped>\n",
       "    .dataframe tbody tr th:only-of-type {\n",
       "        vertical-align: middle;\n",
       "    }\n",
       "\n",
       "    .dataframe tbody tr th {\n",
       "        vertical-align: top;\n",
       "    }\n",
       "\n",
       "    .dataframe thead th {\n",
       "        text-align: right;\n",
       "    }\n",
       "</style>\n",
       "<table border=\"1\" class=\"dataframe\">\n",
       "  <thead>\n",
       "    <tr style=\"text-align: right;\">\n",
       "      <th></th>\n",
       "      <th>taxi_id</th>\n",
       "      <th>trip_start_timestamp</th>\n",
       "      <th>trip_end_timestamp</th>\n",
       "      <th>prev_break</th>\n",
       "    </tr>\n",
       "  </thead>\n",
       "  <tbody>\n",
       "    <tr>\n",
       "      <th>0</th>\n",
       "      <td>382c449a49e179aada54d185943d41afc724eae1fca80e...</td>\n",
       "      <td>2013-10-03 06:00:00+00:00</td>\n",
       "      <td>2013-10-03 06:00:00+00:00</td>\n",
       "      <td>255.0</td>\n",
       "    </tr>\n",
       "    <tr>\n",
       "      <th>1</th>\n",
       "      <td>382c449a49e179aada54d185943d41afc724eae1fca80e...</td>\n",
       "      <td>2013-10-03 16:15:00+00:00</td>\n",
       "      <td>2013-10-03 16:15:00+00:00</td>\n",
       "      <td>120.0</td>\n",
       "    </tr>\n",
       "    <tr>\n",
       "      <th>2</th>\n",
       "      <td>5c6b81bc017e5958a104add3567dac050f7ab2a9e5177a...</td>\n",
       "      <td>2013-10-03 15:45:00+00:00</td>\n",
       "      <td>2013-10-03 16:00:00+00:00</td>\n",
       "      <td>885.0</td>\n",
       "    </tr>\n",
       "    <tr>\n",
       "      <th>3</th>\n",
       "      <td>62d7a2f3418a6b4f4899598f5a4d5bf0b372e8bf3ea61a...</td>\n",
       "      <td>2013-10-03 17:00:00+00:00</td>\n",
       "      <td>2013-10-03 17:45:00+00:00</td>\n",
       "      <td>675.0</td>\n",
       "    </tr>\n",
       "    <tr>\n",
       "      <th>4</th>\n",
       "      <td>a04428213d2c8d9af75a38196f816c69458b06ab6051df...</td>\n",
       "      <td>2013-10-03 11:15:00+00:00</td>\n",
       "      <td>2013-10-03 11:30:00+00:00</td>\n",
       "      <td>540.0</td>\n",
       "    </tr>\n",
       "  </tbody>\n",
       "</table>\n",
       "</div>"
      ],
      "text/plain": [
       "                                             taxi_id  \\\n",
       "0  382c449a49e179aada54d185943d41afc724eae1fca80e...   \n",
       "1  382c449a49e179aada54d185943d41afc724eae1fca80e...   \n",
       "2  5c6b81bc017e5958a104add3567dac050f7ab2a9e5177a...   \n",
       "3  62d7a2f3418a6b4f4899598f5a4d5bf0b372e8bf3ea61a...   \n",
       "4  a04428213d2c8d9af75a38196f816c69458b06ab6051df...   \n",
       "\n",
       "       trip_start_timestamp        trip_end_timestamp  prev_break  \n",
       "0 2013-10-03 06:00:00+00:00 2013-10-03 06:00:00+00:00       255.0  \n",
       "1 2013-10-03 16:15:00+00:00 2013-10-03 16:15:00+00:00       120.0  \n",
       "2 2013-10-03 15:45:00+00:00 2013-10-03 16:00:00+00:00       885.0  \n",
       "3 2013-10-03 17:00:00+00:00 2013-10-03 17:45:00+00:00       675.0  \n",
       "4 2013-10-03 11:15:00+00:00 2013-10-03 11:30:00+00:00       540.0  "
      ]
     },
     "metadata": {},
     "output_type": "display_data"
    },
    {
     "data": {
      "application/javascript": [
       "parent.postMessage({\"jupyterEvent\": \"custom.exercise_interaction\", \"data\": {\"outcomeType\": 1, \"valueTowardsCompletion\": 0.3333333333333333, \"interactionType\": 1, \"questionType\": 2, \"questionId\": \"3_BreakTime\", \"learnToolsVersion\": \"0.3.4\", \"failureMessage\": \"\", \"exceptionClass\": \"\", \"trace\": \"\"}}, \"*\")"
      ],
      "text/plain": [
       "<IPython.core.display.Javascript object>"
      ]
     },
     "metadata": {},
     "output_type": "display_data"
    },
    {
     "data": {
      "text/markdown": [
       "<span style=\"color:#33cc33\">Correct</span>"
      ],
      "text/plain": [
       "Correct"
      ]
     },
     "metadata": {},
     "output_type": "display_data"
    }
   ],
   "source": [
    "# Fill in the blanks below\n",
    "break_time_query = \"\"\"\n",
    "                   SELECT taxi_id,\n",
    "                       trip_start_timestamp,\n",
    "                       trip_end_timestamp,\n",
    "                       TIMESTAMP_DIFF(\n",
    "                           trip_start_timestamp, \n",
    "                           LAG(trip_end_timestamp, 1)\n",
    "                               OVER (\n",
    "                                    PARTITION BY taxi_id \n",
    "                                    ORDER BY trip_start_timestamp\n",
    "                                   ), \n",
    "                           MINUTE) as prev_break\n",
    "                   FROM `bigquery-public-data.chicago_taxi_trips.taxi_trips`\n",
    "                   WHERE DATE(trip_start_timestamp) = '2013-10-03' \n",
    "                   \"\"\"\n",
    "\n",
    "# Check your answer\n",
    "q_3.check()"
   ]
  },
  {
   "cell_type": "code",
   "execution_count": 8,
   "id": "c986c7ef",
   "metadata": {
    "execution": {
     "iopub.execute_input": "2024-04-04T08:41:40.689302Z",
     "iopub.status.busy": "2024-04-04T08:41:40.688916Z",
     "iopub.status.idle": "2024-04-04T08:41:40.693234Z",
     "shell.execute_reply": "2024-04-04T08:41:40.692036Z"
    },
    "papermill": {
     "duration": 0.017107,
     "end_time": "2024-04-04T08:41:40.695529",
     "exception": false,
     "start_time": "2024-04-04T08:41:40.678422",
     "status": "completed"
    },
    "tags": []
   },
   "outputs": [],
   "source": [
    "# Lines below will give you a hint or solution code\n",
    "#q_3.hint()\n",
    "#q_3.solution()"
   ]
  },
  {
   "cell_type": "markdown",
   "id": "7b840d70",
   "metadata": {
    "papermill": {
     "duration": 0.008272,
     "end_time": "2024-04-04T08:41:40.713611",
     "exception": false,
     "start_time": "2024-04-04T08:41:40.705339",
     "status": "completed"
    },
    "tags": []
   },
   "source": [
    "# Keep going\n",
    "\n",
    "Move on to learn how to query **[nested and repeated data](https://www.kaggle.com/alexisbcook/nested-and-repeated-data)**."
   ]
  },
  {
   "cell_type": "markdown",
   "id": "0390c8af",
   "metadata": {
    "papermill": {
     "duration": 0.008378,
     "end_time": "2024-04-04T08:41:40.730615",
     "exception": false,
     "start_time": "2024-04-04T08:41:40.722237",
     "status": "completed"
    },
    "tags": []
   },
   "source": [
    "---\n",
    "\n",
    "\n",
    "\n",
    "\n",
    "*Have questions or comments? Visit the [course discussion forum](https://www.kaggle.com/learn/advanced-sql/discussion) to chat with other learners.*"
   ]
  }
 ],
 "metadata": {
  "kaggle": {
   "accelerator": "none",
   "dataSources": [
    {
     "datasetId": 22219,
     "sourceId": 28536,
     "sourceType": "datasetVersion"
    }
   ],
   "isGpuEnabled": false,
   "isInternetEnabled": true,
   "language": "python",
   "sourceType": "notebook"
  },
  "kernelspec": {
   "display_name": "Python 3",
   "language": "python",
   "name": "python3"
  },
  "language_info": {
   "codemirror_mode": {
    "name": "ipython",
    "version": 3
   },
   "file_extension": ".py",
   "mimetype": "text/x-python",
   "name": "python",
   "nbconvert_exporter": "python",
   "pygments_lexer": "ipython3",
   "version": "3.10.13"
  },
  "papermill": {
   "default_parameters": {},
   "duration": 49.852012,
   "end_time": "2024-04-04T08:41:41.561892",
   "environment_variables": {},
   "exception": null,
   "input_path": "__notebook__.ipynb",
   "output_path": "__notebook__.ipynb",
   "parameters": {},
   "start_time": "2024-04-04T08:40:51.709880",
   "version": "2.5.0"
  }
 },
 "nbformat": 4,
 "nbformat_minor": 5
}
